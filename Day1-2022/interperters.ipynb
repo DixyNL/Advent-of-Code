{
 "cells": [
  {
   "cell_type": "code",
   "execution_count": 34,
   "metadata": {},
   "outputs": [
    {
     "name": "stdout",
     "output_type": "stream",
     "text": [
      "235\n",
      "50786\n"
     ]
    }
   ],
   "source": [
    "import pandas as pd\n",
    "from io import StringIO\n",
    "\n",
    "\n",
    "def parse_clusters(file_path):\n",
    "    clusters = []\n",
    "    current_cluster = []\n",
    "\n",
    "    with open(file_path, 'r') as file:\n",
    "        for line in file:\n",
    "            if line.strip():  # Check if the line is not empty\n",
    "                current_cluster.append(int(line.strip()))\n",
    "            else:\n",
    "                if current_cluster:\n",
    "                    clusters.append(current_cluster)\n",
    "                    current_cluster = []\n",
    "\n",
    "    if current_cluster:\n",
    "        clusters.append(current_cluster)\n",
    "\n",
    "    return clusters\n",
    "\n",
    "file_path = 'day1.txt' \n",
    "result = parse_clusters(file_path)\n",
    "\n",
    "allMaxValues = [] \n",
    "\n",
    "for i in result:\n",
    "    # print(i)\n",
    "    addadTotal = sum(i)\n",
    "    allMaxValues.append(addadTotal)\n",
    "    \n",
    "added = sum(result[1])\n",
    "print(len(result))\n",
    "print(added)\n",
    "\n"
   ]
  },
  {
   "cell_type": "code",
   "execution_count": 37,
   "metadata": {},
   "outputs": [
    {
     "name": "stdout",
     "output_type": "stream",
     "text": [
      "[54273, 50786, 47383, 48088, 42497, 48625, 48083, 58597, 53996, 42727, 51398, 41338, 54225, 46142, 49899, 47586, 50030, 40939, 57297, 48647, 49731, 50189, 50529, 35951, 50694, 49022, 51520, 48710, 47711, 50880, 50932, 57041, 36461, 52012, 46026, 42166, 56362, 44154, 52858, 43013, 46279, 47750, 54441, 50938, 49829, 67045, 35676, 41928, 42135, 38430, 28458, 50836, 55269, 47657, 33259, 64481, 43964, 42605, 50625, 42991, 12076, 54167, 54143, 29731, 48538, 49039, 45914, 41817, 44333, 20512, 43194, 53755, 44543, 53998, 58153, 37926, 18413, 51987, 57622, 28838, 53017, 44823, 49487, 38667, 50949, 38592, 45725, 44005, 44456, 38028, 53754, 37528, 52792, 45595, 37392, 52837, 46171, 41738, 50647, 57833, 53616, 55366, 59931, 60528, 42653, 9550, 39835, 48717, 50245, 49173, 66765, 41745, 43846, 38332, 47675, 38649, 43142, 55751, 53464, 50419, 35056, 17614, 50957, 49752, 43907, 47179, 27104, 45480, 54857, 52139, 63049, 44082, 61016, 57343, 57625, 48260, 33063, 56522, 23489, 46905, 48411, 40309, 54049, 44437, 46460, 52633, 58065, 51808, 27342, 53397, 48377, 39637, 41673, 51217, 46765, 43864, 61387, 63101, 48567, 64498, 50773, 46496, 54351, 56821, 46047, 61230, 56446, 51690, 57835, 58222, 49340, 51790, 31720, 63207, 42159, 49344, 59704, 47917, 46544, 31639, 57523, 57018, 45319, 28718, 42963, 47186, 53933, 49135, 68775, 47615, 59348, 38013, 46392, 58198, 43383, 54879, 42776, 65924, 17079, 42302, 41116, 57210, 53940, 52994, 53876, 41680, 45182, 34591, 48853, 53887, 62125, 46777, 46930, 43560, 54413, 58102, 51525, 27766, 36690, 48819, 58355, 44600, 27881, 37645, 53367, 51807, 44267, 49539, 55776, 41076, 55107, 39786, 49150, 47304, 54684]\n",
      "68775\n",
      "188\n"
     ]
    }
   ],
   "source": [
    "print(allMaxValues)\n",
    "print(max(allMaxValues))\n",
    "print(allMaxValues.index(max(allMaxValues)))"
   ]
  },
  {
   "cell_type": "code",
   "execution_count": 40,
   "metadata": {},
   "outputs": [
    {
     "name": "stdout",
     "output_type": "stream",
     "text": [
      "[68775, 67045, 66765]\n",
      "202585\n"
     ]
    }
   ],
   "source": [
    "print(sorted(allMaxValues, reverse=True)[:3])\n",
    "print(sum(sorted(allMaxValues, reverse=True)[:3]))"
   ]
  }
 ],
 "metadata": {
  "kernelspec": {
   "display_name": "Python 3",
   "language": "python",
   "name": "python3"
  },
  "language_info": {
   "codemirror_mode": {
    "name": "ipython",
    "version": 3
   },
   "file_extension": ".py",
   "mimetype": "text/x-python",
   "name": "python",
   "nbconvert_exporter": "python",
   "pygments_lexer": "ipython3",
   "version": "3.9.0"
  },
  "orig_nbformat": 4
 },
 "nbformat": 4,
 "nbformat_minor": 2
}
