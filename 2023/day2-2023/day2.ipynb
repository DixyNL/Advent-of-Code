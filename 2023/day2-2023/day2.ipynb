{
 "cells": [
  {
   "cell_type": "code",
   "execution_count": 5,
   "metadata": {},
   "outputs": [
    {
     "name": "stdout",
     "output_type": "stream",
     "text": [
      "1 2156\n",
      "2 66909\n"
     ]
    }
   ],
   "source": [
    "from collections import Counter\n",
    "from functools import reduce\n",
    "from operator import mul, or_\n",
    "\n",
    "thres = Counter({\"red\":12, \"green\":13, \"blue\":14})\n",
    "\n",
    "total = 0\n",
    "total_B = 0\n",
    "with open(\"input.txt\", \"r\") as f:\n",
    "    for game in f:\n",
    "        game_id, draws = game.strip().split(\": \")\n",
    "        game_id = int(game_id.split(\" \")[1])\n",
    "        draws = [[c.split(\" \") for c in d.split(\", \")] for d in draws.split(\"; \")]\n",
    "        draws = [Counter({c[1]:int(c[0]) for c in d}) for d in draws]\n",
    "        total += all(all(d[key] <= thres[key] for key in d) for d in draws) * game_id\n",
    "        total_B += reduce(mul, reduce(or_, draws).values())\n",
    "        \n",
    "\n",
    "print(1, total)\n",
    "print(2, total_B)"
   ]
  }
 ],
 "metadata": {
  "kernelspec": {
   "display_name": "Python 3",
   "language": "python",
   "name": "python3"
  },
  "language_info": {
   "codemirror_mode": {
    "name": "ipython",
    "version": 3
   },
   "file_extension": ".py",
   "mimetype": "text/x-python",
   "name": "python",
   "nbconvert_exporter": "python",
   "pygments_lexer": "ipython3",
   "version": "3.9.0"
  }
 },
 "nbformat": 4,
 "nbformat_minor": 2
}
