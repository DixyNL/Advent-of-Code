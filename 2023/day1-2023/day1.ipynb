{
 "cells": [
  {
   "cell_type": "code",
   "execution_count": 1,
   "metadata": {},
   "outputs": [
    {
     "name": "stdout",
     "output_type": "stream",
     "text": [
      "54968\n"
     ]
    }
   ],
   "source": [
    "import pandas as pd\n",
    "\n",
    "df = pd.read_csv('day1.txt', names=['fullstring'])\n",
    "\n",
    "df['numbers'] = df['fullstring'].apply(lambda x: [int(num) for num in x if num.isdigit()])\n",
    "df['combined_numbers'] = df['numbers'].apply(lambda x: x[0]*11 if len(x) == 1 else int(str(x[0]) + str(x[-1])))\n",
    "\n",
    "\n",
    "print(sum(df['combined_numbers']))"
   ]
  },
  {
   "cell_type": "code",
   "execution_count": 2,
   "metadata": {},
   "outputs": [
    {
     "name": "stdout",
     "output_type": "stream",
     "text": [
      "54094\n"
     ]
    }
   ],
   "source": [
    "num_dict = {'one': 'o1e', 'two': 't2o', 'three': 't3e', 'four': 'f4r', 'five': 'f5e', 'six': 's6x', 'seven': 's7n', 'eight': 'e8t', 'nine': 'n9e'}\n",
    "\n",
    "for key, value in num_dict.items():\n",
    "    df['fullstring'] = df['fullstring'].replace(key, str(value), regex=True)\n",
    "\n",
    "df['numbers'] = df['fullstring'].apply(lambda x: [int(num) for num in x if num.isdigit()])\n",
    "df['combined_numbers'] = df['numbers'].apply(lambda x: x[0]*11 if len(x) == 1 else int(str(x[0]) + str(x[-1])))\n",
    "\n",
    "print(sum(df['combined_numbers']))"
   ]
  }
 ],
 "metadata": {
  "kernelspec": {
   "display_name": "Python 3",
   "language": "python",
   "name": "python3"
  },
  "language_info": {
   "codemirror_mode": {
    "name": "ipython",
    "version": 3
   },
   "file_extension": ".py",
   "mimetype": "text/x-python",
   "name": "python",
   "nbconvert_exporter": "python",
   "pygments_lexer": "ipython3",
   "version": "3.9.0"
  }
 },
 "nbformat": 4,
 "nbformat_minor": 2
}
