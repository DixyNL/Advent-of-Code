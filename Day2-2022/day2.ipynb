{
 "cells": [
  {
   "cell_type": "code",
   "execution_count": 16,
   "metadata": {},
   "outputs": [],
   "source": [
    "import pandas as pd\n",
    "\n",
    "df = pd.read_csv('day2.txt', sep=\" \", names=['enemy', 'me'])\n",
    "# A == Rock == X 1 point for rock\n",
    "# B == Paper == Y 2 for paper\n",
    "# C == Siccors == Z  3 for siccors\n",
    "# 6 for win == 0 for loss == 3 for draw \n",
    "\n",
    "wins = [['C', 'X'],['A', 'Y'],['B', 'Z']]\n",
    "ties = [['A', 'X'],['B', 'Y'],['C', 'Z']]\n",
    "losses = [['A', 'Z'],['B', 'X'],['C', 'Y']]\n",
    "\n",
    "point_factors_win = {'X': 7, 'Y': 8, 'Z': 9}\n",
    "point_factors_loss = {'X': 1, 'Y': 2, 'Z': 3}\n",
    "point_factors_tie = {'X': 4, 'Y': 5, 'Z': 6}\n",
    "\n",
    "def checkWinLossTie(row):\n",
    "    enemy_choice = row['enemy']\n",
    "    my_response = row['me']\n",
    "\n",
    "    if [enemy_choice, my_response] in wins:\n",
    "        return'Win'\n",
    "    elif [enemy_choice, my_response] in losses:\n",
    "        return 'Loss'\n",
    "    elif [enemy_choice, my_response] in ties:\n",
    "        return 'Tie'\n",
    "    \n",
    "df['result'] = df.apply(checkWinLossTie, axis=1)\n"
   ]
  },
  {
   "cell_type": "code",
   "execution_count": 40,
   "metadata": {},
   "outputs": [],
   "source": [
    "def addPoints(row):\n",
    "    my_response = row['me']\n",
    "    result = row['result']\n",
    "    \n",
    "    if result == 'Win' and my_response in point_factors_win:\n",
    "        return point_factors_win[my_response]\n",
    "    elif result == 'Tie' and my_response in point_factors_tie:\n",
    "        return point_factors_tie[my_response]\n",
    "    elif result == 'Loss' and my_response in point_factors_loss:\n",
    "        return point_factors_loss[my_response]\n",
    "    else:\n",
    "        return 0\n",
    "    \n",
    "df['points'] = df.apply(addPoints, axis=1)"
   ]
  },
  {
   "cell_type": "code",
   "execution_count": 42,
   "metadata": {},
   "outputs": [
    {
     "name": "stdout",
     "output_type": "stream",
     "text": [
      "11906\n"
     ]
    }
   ],
   "source": [
    "\n",
    "\n",
    "print(sum(df['points']))"
   ]
  }
 ],
 "metadata": {
  "kernelspec": {
   "display_name": "Python 3",
   "language": "python",
   "name": "python3"
  },
  "language_info": {
   "codemirror_mode": {
    "name": "ipython",
    "version": 3
   },
   "file_extension": ".py",
   "mimetype": "text/x-python",
   "name": "python",
   "nbconvert_exporter": "python",
   "pygments_lexer": "ipython3",
   "version": "3.9.0"
  },
  "orig_nbformat": 4
 },
 "nbformat": 4,
 "nbformat_minor": 2
}
