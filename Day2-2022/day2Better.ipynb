{
 "cells": [
  {
   "cell_type": "code",
   "execution_count": 8,
   "metadata": {},
   "outputs": [
    {
     "name": "stdout",
     "output_type": "stream",
     "text": [
      "[11906]\n"
     ]
    }
   ],
   "source": [
    "import pandas as pd\n",
    "\n",
    "all_posible_outcome = {'A X': 4, 'B X': 1, 'C X': 7,\n",
    "                       'A Y': 8, 'B Y': 5, 'C Y': 2,\n",
    "                       'A Z': 3, 'B Z': 9, 'C Z': 6}\n",
    "\n",
    "df = pd.read_csv('day2.txt', names=['battle'])\n",
    "pointsGot = []\n",
    "df\n",
    "\n",
    "def points(row):\n",
    "    battle = row['battle']\n",
    "\n",
    "    if battle in all_posible_outcome:\n",
    "        return all_posible_outcome[battle]\n",
    "\n",
    "df['points'] = df.apply(points, axis=1)\n",
    "\n",
    "points_sum = df['points'].sum()\n",
    "pointsGot.append(points_sum)\n",
    "\n",
    "print(pointsGot)"
   ]
  },
  {
   "cell_type": "code",
   "execution_count": 12,
   "metadata": {},
   "outputs": [
    {
     "name": "stdout",
     "output_type": "stream",
     "text": [
      "[11186]\n"
     ]
    }
   ],
   "source": [
    "df\n",
    "pointsGot2 = []\n",
    "all_posible_outcome_2 = {'A X': 3, 'B X': 1, 'C X': 2,\n",
    "                         'A Y': 4, 'B Y': 5, 'C Y': 6,\n",
    "                         'A Z': 8, 'B Z': 9, 'C Z': 7}\n",
    "\n",
    "def points2(row):\n",
    "    battle = row['battle']\n",
    "\n",
    "    if battle in all_posible_outcome_2:\n",
    "        return all_posible_outcome_2[battle]\n",
    "\n",
    "df['points'] = df.apply(points2, axis=1)\n",
    "\n",
    "points_sum2 = df['points'].sum()\n",
    "pointsGot2.append(points_sum2)\n",
    "\n",
    "print(pointsGot2)"
   ]
  }
 ],
 "metadata": {
  "kernelspec": {
   "display_name": "Python 3",
   "language": "python",
   "name": "python3"
  },
  "language_info": {
   "codemirror_mode": {
    "name": "ipython",
    "version": 3
   },
   "file_extension": ".py",
   "mimetype": "text/x-python",
   "name": "python",
   "nbconvert_exporter": "python",
   "pygments_lexer": "ipython3",
   "version": "3.9.0"
  }
 },
 "nbformat": 4,
 "nbformat_minor": 2
}
